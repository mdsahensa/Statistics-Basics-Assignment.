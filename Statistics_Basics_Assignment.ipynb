{
  "nbformat": 4,
  "nbformat_minor": 0,
  "metadata": {
    "colab": {
      "provenance": []
    },
    "kernelspec": {
      "name": "python3",
      "display_name": "Python 3"
    },
    "language_info": {
      "name": "python"
    }
  },
  "cells": [
    {
      "cell_type": "markdown",
      "source": [
        "#PRACTICAL\n"
      ],
      "metadata": {
        "id": "tdNbUN-gyKyQ"
      }
    },
    {
      "cell_type": "markdown",
      "source": [
        "#1. What is statistics, and why is it important.\n",
        "\n",
        "-Statistics is the science of collecting, analyzing, and interpreting data to make decisions or understand patterns. It helps in decision-making, understanding trends, improving quality, supporting research, and managing risks"
      ],
      "metadata": {
        "id": "KhbJgn4c_8dA"
      }
    },
    {
      "cell_type": "markdown",
      "source": [
        "#2.What are the two main types of statistics?\n",
        "\n",
        " - Descriptive Statistics – Summarizes data (e.g., averages, charts).\n",
        "\n",
        "- Inferential Statistics – Makes predictions or decisions based on data."
      ],
      "metadata": {
        "id": "xW1Rw0Tb_8aB"
      }
    },
    {
      "cell_type": "markdown",
      "source": [
        "#3.  What are descriptive statistics?\n",
        "\n",
        "- Descriptive statistics are methods used to summarize and describe the main features of a dataset using numbers, tables, or graphs—like the mean, median, and charts."
      ],
      "metadata": {
        "id": "IQYMoyu5_8YQ"
      }
    },
    {
      "cell_type": "markdown",
      "source": [
        "#4. What is inferential statistics?\n",
        "\n",
        "- Inferential statistics use a sample of data to make predictions, conclusions, or decisions about a larger population."
      ],
      "metadata": {
        "id": "OOGsYAtvBapA"
      }
    },
    {
      "cell_type": "markdown",
      "source": [
        "#5 What is sampling in statistics?\n",
        "\n",
        "- Sampling in statistics is the process of selecting a small group (sample) from a larger group (population) to study and draw conclusions about the whole population."
      ],
      "metadata": {
        "id": "9cPVj-U3Bans"
      }
    },
    {
      "cell_type": "markdown",
      "source": [
        "#6. What are the different types of sampling methods?\n",
        "\n",
        "- Random Sampling – Everyone has an equal chance.\n",
        "\n",
        "- Systematic Sampling – Select every nth person.\n",
        "\n",
        "- Stratified Sampling – Divide into groups, then sample from each.\n",
        "\n",
        "- Cluster Sampling – Select whole groups randomly.\n",
        "\n",
        "- Convenience Sampling – Use whoever is easiest to reach."
      ],
      "metadata": {
        "id": "h72O6DY2BakF"
      }
    },
    {
      "cell_type": "markdown",
      "source": [
        "#7. What is the difference between random and non-random sampling?\n",
        "\n",
        "- Random Sampling: Every individual has an equal chance of being selected—it's unbiased\n",
        "\n",
        "-Non-Random Sampling: Selection is based on convenience or judgment—can be biased."
      ],
      "metadata": {
        "id": "gsqJEcQTBaip"
      }
    },
    {
      "cell_type": "markdown",
      "source": [
        "#8. Define and give examples of qualitative and quantitative data?\n",
        "\n",
        "- Qualitative Data: Describes qualities or categories (e.g., colors, names, gender).\n",
        "\n",
        "Example: Eye color, car brand.\n",
        "\n",
        "- Quantitative Data: Represents numbers or amounts (e.g., height, age, scores).\n",
        "\n",
        "Example: 170 cm tall, 25 years old."
      ],
      "metadata": {
        "id": "cyelP7JFBae6"
      }
    },
    {
      "cell_type": "markdown",
      "source": [
        "#9. What are the different types of data in statistics?\n",
        "\n",
        "- The main types of data in statistics are:\n",
        "\n",
        "Qualitative (Categorical) – Describes categories (e.g., colors, names).\n",
        "\n",
        "Quantitative (Numerical) – Includes:\n",
        "\n",
        "Discrete Data – Countable (e.g., number of books).\n",
        "\n",
        "Continuous Data – Measurable (e.g., weight, height)."
      ],
      "metadata": {
        "id": "R7QNGFTdBadj"
      }
    },
    {
      "cell_type": "markdown",
      "source": [
        "#10. Explain nominal, ordinal, interval, and ratio levels of measurement5?\n",
        "\n",
        "- Nominal – Names or categories only (e.g., gender, colors).\n",
        "\n",
        "- Ordinal – Ordered categories, but no exact differences (e.g., rankings).\n",
        "\n",
        "- Interval – Ordered, with equal spacing but no true zero (e.g., temperature in °C).\n",
        "\n",
        "- Ratio – Like interval, but with a true zero (e.g., height, weight, age)."
      ],
      "metadata": {
        "id": "FvHjxbKYBaaB"
      }
    },
    {
      "cell_type": "markdown",
      "source": [
        "#11. What is the measure of central tendency?\n",
        "\n",
        "- Measures of central tendency are values that represent the center of a data set. The main ones are:\n",
        "\n",
        "Mean – The average.\n",
        "\n",
        "Median – The middle value.\n",
        "\n",
        "Mode – The most frequent value."
      ],
      "metadata": {
        "id": "MfQmwmhmBaYg"
      }
    },
    {
      "cell_type": "markdown",
      "source": [
        "#12. Define mean, median, and mode5?\n",
        "\n",
        "- Mean: The average of all values.\n",
        "\n",
        "- Median: The middle value when data is ordered.\n",
        "\n",
        "- Mode: The value that appears most often."
      ],
      "metadata": {
        "id": "1bHginrdBaSE"
      }
    },
    {
      "cell_type": "markdown",
      "source": [
        "#13. What is the significance of the measure of central tendency?\n",
        "\n",
        "- The measure of central tendency shows the average or center of data. It helps us understand the typical or most common value in a dataset."
      ],
      "metadata": {
        "id": "3VCOz-CvBaP-"
      }
    },
    {
      "cell_type": "markdown",
      "source": [
        "#14. What is variance, and how is it calculated?\n",
        "\n",
        "- Variance measures how spread out the data is.\n",
        "It is calculated by finding the average of the squared differences from the mean."
      ],
      "metadata": {
        "id": "gWHuSzUEBaOg"
      }
    },
    {
      "cell_type": "markdown",
      "source": [
        "#15. What is standard deviation, and why is it important?\n",
        "\n",
        "- Standard deviation shows how much data values vary from the mean.\n",
        "It’s important because it tells us how consistent or spread out the data is."
      ],
      "metadata": {
        "id": "uwBmwUDbFCd1"
      }
    },
    {
      "cell_type": "markdown",
      "source": [
        "#16.  Define and explain the term range in statistics?\n",
        "\n",
        "- Range is the difference between the highest and lowest values in a dataset.\n",
        "It shows how spread out the data is."
      ],
      "metadata": {
        "id": "46h3M9c9FCcF"
      }
    },
    {
      "cell_type": "markdown",
      "source": [
        "#17. What is the difference between variance and standard deviation?\n",
        "\n",
        "- Variance is the average of squared differences from the mean.\n",
        "\n",
        "Standard deviation is the square root of the variance.\n",
        "They both measure data spread, but standard deviation is in the same units as the data."
      ],
      "metadata": {
        "id": "x_cWSMNsFCYo"
      }
    },
    {
      "cell_type": "markdown",
      "source": [
        "#18. What is skewness in a dataset?\n",
        "\n",
        "- Skewness measures the asymmetry of a dataset.\n",
        "\n",
        "\n",
        "If data leans left or right (not evenly spread), it’s skewed.\n",
        "\n",
        "Positive skew: tail on the right.\n",
        "\n",
        "Negative skew: tail on the left."
      ],
      "metadata": {
        "id": "rHIBMZ5uFCW0"
      }
    },
    {
      "cell_type": "markdown",
      "source": [
        "#19. What does it mean if a dataset is positively or negatively skewed?\n",
        "\n",
        "- A positively skewed dataset has a longer tail on the right; most values are on the left.\n",
        "\n",
        "- A negatively skewed dataset has a longer tail on the left; most values are on the right."
      ],
      "metadata": {
        "id": "X5DknQo6FCTp"
      }
    },
    {
      "cell_type": "markdown",
      "source": [
        "#20. Define and explain kurtosis?\n",
        "\n",
        "- Kurtosis is a statistical measure that describes the shape of a distribution's tails in relation to its overall shape. It indicates whether data have heavy tails or light tails compared to a normal distribution."
      ],
      "metadata": {
        "id": "10Bi5o-zFCR6"
      }
    },
    {
      "cell_type": "markdown",
      "source": [
        "#21. What is the purpose of covariance?\n",
        "\n",
        "- The purpose of covariance is to measure the relationship between two variables — specifically, how they change together. It tells us whether an increase in one variable results in an increase or decrease in the other.\n",
        "\n",
        "Positive covariance: Both variables increase or decrease together.\n",
        "\n",
        "Negative covariance: One variable increases while the other decreases.\n",
        "\n",
        "Zero covariance: No relationship between the variables."
      ],
      "metadata": {
        "id": "lwMAPn9hFB0w"
      }
    },
    {
      "cell_type": "markdown",
      "source": [
        "#22.  What does correlation measure in statistics?\n",
        "\n",
        "- Correlation measures the strength and direction of a linear relationship between two variables in statistics. It tells us how closely two variables move together.\n",
        "\n",
        "Values range from -1 to +1:\n",
        "\n",
        "- +1: Perfect positive correlation\n",
        "\n",
        "- 0: No correlation\n",
        "\n",
        "- –1: Perfect negative correlation\n"
      ],
      "metadata": {
        "id": "RmYlIpdOTJ_4"
      }
    },
    {
      "cell_type": "markdown",
      "source": [
        "#23. What is the difference between covariance and correlation?\n",
        "\n",
        "| Feature        | Covariance                                 | Correlation                                     |\n",
        "| -------------- | ------------------------------------------ | ----------------------------------------------- |\n",
        "| Meaning        | Measures how two variables change together | Measures how strongly two variables are related |\n",
        "| Scale          | Not standardized (values can be large)     | Standardized (always between –1 and +1)         |\n",
        "| Units          | Depends on the units of variables          | Unitless (dimensionless)                        |\n",
        "| Interpretation | Harder to interpret due to scale           | Easier to interpret                             |\n"
      ],
      "metadata": {
        "id": "ylH-ld0lTi6X"
      }
    },
    {
      "cell_type": "markdown",
      "source": [
        "#24. What are some real-world applications of statistics?\n",
        "\n",
        "- Healthcare: Used to analyze patient data, test effectiveness of medicines, and track disease outbreaks.\n",
        "\n",
        "- Business and Marketing: Helps in understanding customer behavior, sales forecasting, and market trends.\n",
        "\n",
        "- Education: Used to measure student performance, evaluate teaching methods, and design exams.\n",
        "\n",
        "- Government and Policy Making: Helps in conducting censuses, allocating budgets, and forming public policies.\n",
        "\n",
        "- Sports: Used to track player performance, game statistics, and improve team strategies."
      ],
      "metadata": {
        "id": "EUL9Vn6YT8e8"
      }
    },
    {
      "cell_type": "markdown",
      "source": [
        "# **#PRACTICAL**"
      ],
      "metadata": {
        "id": "PpK7_I9ZT8cQ"
      }
    },
    {
      "cell_type": "markdown",
      "source": [
        "#1.How do you calculate the mean, median, and mode of a dataset?"
      ],
      "metadata": {
        "id": "gqNJ525BT8Z1"
      }
    },
    {
      "cell_type": "code",
      "source": [
        "import numpy as np\n",
        "\n",
        "data = [1, 2, 3, 4, 5]\n",
        "\n",
        "np.mean(data)  #mean"
      ],
      "metadata": {
        "colab": {
          "base_uri": "https://localhost:8080/"
        },
        "id": "69CUnyXT_5QG",
        "outputId": "1303f49c-f659-4c53-ef73-7c32d274ce06"
      },
      "execution_count": null,
      "outputs": [
        {
          "output_type": "execute_result",
          "data": {
            "text/plain": [
              "np.float64(3.0)"
            ]
          },
          "metadata": {},
          "execution_count": 5
        }
      ]
    },
    {
      "cell_type": "code",
      "source": [
        "np.median(data) #median"
      ],
      "metadata": {
        "colab": {
          "base_uri": "https://localhost:8080/"
        },
        "id": "CIFjOuHBWfX7",
        "outputId": "89506a69-61e7-404d-f7ab-ed610b2a37d2"
      },
      "execution_count": null,
      "outputs": [
        {
          "output_type": "execute_result",
          "data": {
            "text/plain": [
              "np.float64(3.0)"
            ]
          },
          "metadata": {},
          "execution_count": 7
        }
      ]
    },
    {
      "cell_type": "code",
      "source": [
        "data2= [1,1, 12,44,3,2,1]\n",
        "\n",
        "import statistics\n",
        "statistics.mode(data2) #mode"
      ],
      "metadata": {
        "colab": {
          "base_uri": "https://localhost:8080/"
        },
        "id": "QqM4ACcfW1Wq",
        "outputId": "a9b80d6b-ab5b-4aba-d52a-293047feb8d0"
      },
      "execution_count": null,
      "outputs": [
        {
          "output_type": "execute_result",
          "data": {
            "text/plain": [
              "1"
            ]
          },
          "metadata": {},
          "execution_count": 18
        }
      ]
    },
    {
      "cell_type": "markdown",
      "source": [
        "#2. Write a Python program to compute the variance and standard deviation of a dataset?"
      ],
      "metadata": {
        "id": "MvDuKFHjXtcr"
      }
    },
    {
      "cell_type": "code",
      "source": [
        "data= [ 2, 3, 4, 6, 10]\n",
        "\n",
        "import statistics as sns\n",
        "\n",
        "sns.variance(data) #variance"
      ],
      "metadata": {
        "colab": {
          "base_uri": "https://localhost:8080/"
        },
        "id": "hE_ds2IeW6tb",
        "outputId": "97f90678-97be-498b-be3a-253619403360"
      },
      "execution_count": null,
      "outputs": [
        {
          "output_type": "execute_result",
          "data": {
            "text/plain": [
              "10"
            ]
          },
          "metadata": {},
          "execution_count": 19
        }
      ]
    },
    {
      "cell_type": "code",
      "source": [
        "sns.stdev(data) #stdvariance"
      ],
      "metadata": {
        "colab": {
          "base_uri": "https://localhost:8080/"
        },
        "id": "C33TR0dXYEE8",
        "outputId": "9dd1bf8c-a672-4a3d-a266-95cbc4d7a781"
      },
      "execution_count": null,
      "outputs": [
        {
          "output_type": "execute_result",
          "data": {
            "text/plain": [
              "3.1622776601683795"
            ]
          },
          "metadata": {},
          "execution_count": 20
        }
      ]
    },
    {
      "cell_type": "markdown",
      "source": [
        "#3. Create a dataset and classify it into nominal, ordinal, interval, and ratio type?\n",
        "\n"
      ],
      "metadata": {
        "id": "enPNeBhfYqap"
      }
    },
    {
      "cell_type": "code",
      "source": [
        "import pandas as pd\n",
        "\n",
        "data = {\"student\": [\"john\",\"alice\", \"chodury\", \"riya\"],\n",
        "        \"gender\": [\"m\", \"f\", \"m\", \"f\"],\n",
        "        \"grade\": [\"good\", \"execellent\", \"fair\", \"fair\"],\n",
        "        \"temp_c\": [\"23\", \"24\", \"40\", \"35\"],\n",
        "        \"percentage\":[\"55\", \"60\", \"55\", \"40\"]}\n",
        "\n",
        "#create a dataframe\n",
        "\n",
        "df = pd.DataFrame(data)\n",
        "df\n",
        "\n"
      ],
      "metadata": {
        "colab": {
          "base_uri": "https://localhost:8080/",
          "height": 175
        },
        "id": "via6NlQyYoV0",
        "outputId": "ec13dcdd-253a-4ec2-b6d2-f7182480ef0a"
      },
      "execution_count": null,
      "outputs": [
        {
          "output_type": "execute_result",
          "data": {
            "text/plain": [
              "   student gender       grade temp_c percentage\n",
              "0     john      m        good     23         55\n",
              "1    alice      f  execellent     24         60\n",
              "2  chodury      m        fair     40         55\n",
              "3     riya      f        fair     35         40"
            ],
            "text/html": [
              "\n",
              "  <div id=\"df-aaabbe9f-4f5a-4fe3-8cc2-fd68de33d774\" class=\"colab-df-container\">\n",
              "    <div>\n",
              "<style scoped>\n",
              "    .dataframe tbody tr th:only-of-type {\n",
              "        vertical-align: middle;\n",
              "    }\n",
              "\n",
              "    .dataframe tbody tr th {\n",
              "        vertical-align: top;\n",
              "    }\n",
              "\n",
              "    .dataframe thead th {\n",
              "        text-align: right;\n",
              "    }\n",
              "</style>\n",
              "<table border=\"1\" class=\"dataframe\">\n",
              "  <thead>\n",
              "    <tr style=\"text-align: right;\">\n",
              "      <th></th>\n",
              "      <th>student</th>\n",
              "      <th>gender</th>\n",
              "      <th>grade</th>\n",
              "      <th>temp_c</th>\n",
              "      <th>percentage</th>\n",
              "    </tr>\n",
              "  </thead>\n",
              "  <tbody>\n",
              "    <tr>\n",
              "      <th>0</th>\n",
              "      <td>john</td>\n",
              "      <td>m</td>\n",
              "      <td>good</td>\n",
              "      <td>23</td>\n",
              "      <td>55</td>\n",
              "    </tr>\n",
              "    <tr>\n",
              "      <th>1</th>\n",
              "      <td>alice</td>\n",
              "      <td>f</td>\n",
              "      <td>execellent</td>\n",
              "      <td>24</td>\n",
              "      <td>60</td>\n",
              "    </tr>\n",
              "    <tr>\n",
              "      <th>2</th>\n",
              "      <td>chodury</td>\n",
              "      <td>m</td>\n",
              "      <td>fair</td>\n",
              "      <td>40</td>\n",
              "      <td>55</td>\n",
              "    </tr>\n",
              "    <tr>\n",
              "      <th>3</th>\n",
              "      <td>riya</td>\n",
              "      <td>f</td>\n",
              "      <td>fair</td>\n",
              "      <td>35</td>\n",
              "      <td>40</td>\n",
              "    </tr>\n",
              "  </tbody>\n",
              "</table>\n",
              "</div>\n",
              "    <div class=\"colab-df-buttons\">\n",
              "\n",
              "  <div class=\"colab-df-container\">\n",
              "    <button class=\"colab-df-convert\" onclick=\"convertToInteractive('df-aaabbe9f-4f5a-4fe3-8cc2-fd68de33d774')\"\n",
              "            title=\"Convert this dataframe to an interactive table.\"\n",
              "            style=\"display:none;\">\n",
              "\n",
              "  <svg xmlns=\"http://www.w3.org/2000/svg\" height=\"24px\" viewBox=\"0 -960 960 960\">\n",
              "    <path d=\"M120-120v-720h720v720H120Zm60-500h600v-160H180v160Zm220 220h160v-160H400v160Zm0 220h160v-160H400v160ZM180-400h160v-160H180v160Zm440 0h160v-160H620v160ZM180-180h160v-160H180v160Zm440 0h160v-160H620v160Z\"/>\n",
              "  </svg>\n",
              "    </button>\n",
              "\n",
              "  <style>\n",
              "    .colab-df-container {\n",
              "      display:flex;\n",
              "      gap: 12px;\n",
              "    }\n",
              "\n",
              "    .colab-df-convert {\n",
              "      background-color: #E8F0FE;\n",
              "      border: none;\n",
              "      border-radius: 50%;\n",
              "      cursor: pointer;\n",
              "      display: none;\n",
              "      fill: #1967D2;\n",
              "      height: 32px;\n",
              "      padding: 0 0 0 0;\n",
              "      width: 32px;\n",
              "    }\n",
              "\n",
              "    .colab-df-convert:hover {\n",
              "      background-color: #E2EBFA;\n",
              "      box-shadow: 0px 1px 2px rgba(60, 64, 67, 0.3), 0px 1px 3px 1px rgba(60, 64, 67, 0.15);\n",
              "      fill: #174EA6;\n",
              "    }\n",
              "\n",
              "    .colab-df-buttons div {\n",
              "      margin-bottom: 4px;\n",
              "    }\n",
              "\n",
              "    [theme=dark] .colab-df-convert {\n",
              "      background-color: #3B4455;\n",
              "      fill: #D2E3FC;\n",
              "    }\n",
              "\n",
              "    [theme=dark] .colab-df-convert:hover {\n",
              "      background-color: #434B5C;\n",
              "      box-shadow: 0px 1px 3px 1px rgba(0, 0, 0, 0.15);\n",
              "      filter: drop-shadow(0px 1px 2px rgba(0, 0, 0, 0.3));\n",
              "      fill: #FFFFFF;\n",
              "    }\n",
              "  </style>\n",
              "\n",
              "    <script>\n",
              "      const buttonEl =\n",
              "        document.querySelector('#df-aaabbe9f-4f5a-4fe3-8cc2-fd68de33d774 button.colab-df-convert');\n",
              "      buttonEl.style.display =\n",
              "        google.colab.kernel.accessAllowed ? 'block' : 'none';\n",
              "\n",
              "      async function convertToInteractive(key) {\n",
              "        const element = document.querySelector('#df-aaabbe9f-4f5a-4fe3-8cc2-fd68de33d774');\n",
              "        const dataTable =\n",
              "          await google.colab.kernel.invokeFunction('convertToInteractive',\n",
              "                                                    [key], {});\n",
              "        if (!dataTable) return;\n",
              "\n",
              "        const docLinkHtml = 'Like what you see? Visit the ' +\n",
              "          '<a target=\"_blank\" href=https://colab.research.google.com/notebooks/data_table.ipynb>data table notebook</a>'\n",
              "          + ' to learn more about interactive tables.';\n",
              "        element.innerHTML = '';\n",
              "        dataTable['output_type'] = 'display_data';\n",
              "        await google.colab.output.renderOutput(dataTable, element);\n",
              "        const docLink = document.createElement('div');\n",
              "        docLink.innerHTML = docLinkHtml;\n",
              "        element.appendChild(docLink);\n",
              "      }\n",
              "    </script>\n",
              "  </div>\n",
              "\n",
              "\n",
              "    <div id=\"df-42d87c62-2c47-43e8-929e-571bd1bb84f6\">\n",
              "      <button class=\"colab-df-quickchart\" onclick=\"quickchart('df-42d87c62-2c47-43e8-929e-571bd1bb84f6')\"\n",
              "                title=\"Suggest charts\"\n",
              "                style=\"display:none;\">\n",
              "\n",
              "<svg xmlns=\"http://www.w3.org/2000/svg\" height=\"24px\"viewBox=\"0 0 24 24\"\n",
              "     width=\"24px\">\n",
              "    <g>\n",
              "        <path d=\"M19 3H5c-1.1 0-2 .9-2 2v14c0 1.1.9 2 2 2h14c1.1 0 2-.9 2-2V5c0-1.1-.9-2-2-2zM9 17H7v-7h2v7zm4 0h-2V7h2v10zm4 0h-2v-4h2v4z\"/>\n",
              "    </g>\n",
              "</svg>\n",
              "      </button>\n",
              "\n",
              "<style>\n",
              "  .colab-df-quickchart {\n",
              "      --bg-color: #E8F0FE;\n",
              "      --fill-color: #1967D2;\n",
              "      --hover-bg-color: #E2EBFA;\n",
              "      --hover-fill-color: #174EA6;\n",
              "      --disabled-fill-color: #AAA;\n",
              "      --disabled-bg-color: #DDD;\n",
              "  }\n",
              "\n",
              "  [theme=dark] .colab-df-quickchart {\n",
              "      --bg-color: #3B4455;\n",
              "      --fill-color: #D2E3FC;\n",
              "      --hover-bg-color: #434B5C;\n",
              "      --hover-fill-color: #FFFFFF;\n",
              "      --disabled-bg-color: #3B4455;\n",
              "      --disabled-fill-color: #666;\n",
              "  }\n",
              "\n",
              "  .colab-df-quickchart {\n",
              "    background-color: var(--bg-color);\n",
              "    border: none;\n",
              "    border-radius: 50%;\n",
              "    cursor: pointer;\n",
              "    display: none;\n",
              "    fill: var(--fill-color);\n",
              "    height: 32px;\n",
              "    padding: 0;\n",
              "    width: 32px;\n",
              "  }\n",
              "\n",
              "  .colab-df-quickchart:hover {\n",
              "    background-color: var(--hover-bg-color);\n",
              "    box-shadow: 0 1px 2px rgba(60, 64, 67, 0.3), 0 1px 3px 1px rgba(60, 64, 67, 0.15);\n",
              "    fill: var(--button-hover-fill-color);\n",
              "  }\n",
              "\n",
              "  .colab-df-quickchart-complete:disabled,\n",
              "  .colab-df-quickchart-complete:disabled:hover {\n",
              "    background-color: var(--disabled-bg-color);\n",
              "    fill: var(--disabled-fill-color);\n",
              "    box-shadow: none;\n",
              "  }\n",
              "\n",
              "  .colab-df-spinner {\n",
              "    border: 2px solid var(--fill-color);\n",
              "    border-color: transparent;\n",
              "    border-bottom-color: var(--fill-color);\n",
              "    animation:\n",
              "      spin 1s steps(1) infinite;\n",
              "  }\n",
              "\n",
              "  @keyframes spin {\n",
              "    0% {\n",
              "      border-color: transparent;\n",
              "      border-bottom-color: var(--fill-color);\n",
              "      border-left-color: var(--fill-color);\n",
              "    }\n",
              "    20% {\n",
              "      border-color: transparent;\n",
              "      border-left-color: var(--fill-color);\n",
              "      border-top-color: var(--fill-color);\n",
              "    }\n",
              "    30% {\n",
              "      border-color: transparent;\n",
              "      border-left-color: var(--fill-color);\n",
              "      border-top-color: var(--fill-color);\n",
              "      border-right-color: var(--fill-color);\n",
              "    }\n",
              "    40% {\n",
              "      border-color: transparent;\n",
              "      border-right-color: var(--fill-color);\n",
              "      border-top-color: var(--fill-color);\n",
              "    }\n",
              "    60% {\n",
              "      border-color: transparent;\n",
              "      border-right-color: var(--fill-color);\n",
              "    }\n",
              "    80% {\n",
              "      border-color: transparent;\n",
              "      border-right-color: var(--fill-color);\n",
              "      border-bottom-color: var(--fill-color);\n",
              "    }\n",
              "    90% {\n",
              "      border-color: transparent;\n",
              "      border-bottom-color: var(--fill-color);\n",
              "    }\n",
              "  }\n",
              "</style>\n",
              "\n",
              "      <script>\n",
              "        async function quickchart(key) {\n",
              "          const quickchartButtonEl =\n",
              "            document.querySelector('#' + key + ' button');\n",
              "          quickchartButtonEl.disabled = true;  // To prevent multiple clicks.\n",
              "          quickchartButtonEl.classList.add('colab-df-spinner');\n",
              "          try {\n",
              "            const charts = await google.colab.kernel.invokeFunction(\n",
              "                'suggestCharts', [key], {});\n",
              "          } catch (error) {\n",
              "            console.error('Error during call to suggestCharts:', error);\n",
              "          }\n",
              "          quickchartButtonEl.classList.remove('colab-df-spinner');\n",
              "          quickchartButtonEl.classList.add('colab-df-quickchart-complete');\n",
              "        }\n",
              "        (() => {\n",
              "          let quickchartButtonEl =\n",
              "            document.querySelector('#df-42d87c62-2c47-43e8-929e-571bd1bb84f6 button');\n",
              "          quickchartButtonEl.style.display =\n",
              "            google.colab.kernel.accessAllowed ? 'block' : 'none';\n",
              "        })();\n",
              "      </script>\n",
              "    </div>\n",
              "\n",
              "  <div id=\"id_d9a4d31b-3085-4da8-abe2-23bceb43990e\">\n",
              "    <style>\n",
              "      .colab-df-generate {\n",
              "        background-color: #E8F0FE;\n",
              "        border: none;\n",
              "        border-radius: 50%;\n",
              "        cursor: pointer;\n",
              "        display: none;\n",
              "        fill: #1967D2;\n",
              "        height: 32px;\n",
              "        padding: 0 0 0 0;\n",
              "        width: 32px;\n",
              "      }\n",
              "\n",
              "      .colab-df-generate:hover {\n",
              "        background-color: #E2EBFA;\n",
              "        box-shadow: 0px 1px 2px rgba(60, 64, 67, 0.3), 0px 1px 3px 1px rgba(60, 64, 67, 0.15);\n",
              "        fill: #174EA6;\n",
              "      }\n",
              "\n",
              "      [theme=dark] .colab-df-generate {\n",
              "        background-color: #3B4455;\n",
              "        fill: #D2E3FC;\n",
              "      }\n",
              "\n",
              "      [theme=dark] .colab-df-generate:hover {\n",
              "        background-color: #434B5C;\n",
              "        box-shadow: 0px 1px 3px 1px rgba(0, 0, 0, 0.15);\n",
              "        filter: drop-shadow(0px 1px 2px rgba(0, 0, 0, 0.3));\n",
              "        fill: #FFFFFF;\n",
              "      }\n",
              "    </style>\n",
              "    <button class=\"colab-df-generate\" onclick=\"generateWithVariable('df')\"\n",
              "            title=\"Generate code using this dataframe.\"\n",
              "            style=\"display:none;\">\n",
              "\n",
              "  <svg xmlns=\"http://www.w3.org/2000/svg\" height=\"24px\"viewBox=\"0 0 24 24\"\n",
              "       width=\"24px\">\n",
              "    <path d=\"M7,19H8.4L18.45,9,17,7.55,7,17.6ZM5,21V16.75L18.45,3.32a2,2,0,0,1,2.83,0l1.4,1.43a1.91,1.91,0,0,1,.58,1.4,1.91,1.91,0,0,1-.58,1.4L9.25,21ZM18.45,9,17,7.55Zm-12,3A5.31,5.31,0,0,0,4.9,8.1,5.31,5.31,0,0,0,1,6.5,5.31,5.31,0,0,0,4.9,4.9,5.31,5.31,0,0,0,6.5,1,5.31,5.31,0,0,0,8.1,4.9,5.31,5.31,0,0,0,12,6.5,5.46,5.46,0,0,0,6.5,12Z\"/>\n",
              "  </svg>\n",
              "    </button>\n",
              "    <script>\n",
              "      (() => {\n",
              "      const buttonEl =\n",
              "        document.querySelector('#id_d9a4d31b-3085-4da8-abe2-23bceb43990e button.colab-df-generate');\n",
              "      buttonEl.style.display =\n",
              "        google.colab.kernel.accessAllowed ? 'block' : 'none';\n",
              "\n",
              "      buttonEl.onclick = () => {\n",
              "        google.colab.notebook.generateWithVariable('df');\n",
              "      }\n",
              "      })();\n",
              "    </script>\n",
              "  </div>\n",
              "\n",
              "    </div>\n",
              "  </div>\n"
            ],
            "application/vnd.google.colaboratory.intrinsic+json": {
              "type": "dataframe",
              "variable_name": "df",
              "summary": "{\n  \"name\": \"df\",\n  \"rows\": 4,\n  \"fields\": [\n    {\n      \"column\": \"student\",\n      \"properties\": {\n        \"dtype\": \"string\",\n        \"num_unique_values\": 4,\n        \"samples\": [\n          \"alice\",\n          \"riya\",\n          \"john\"\n        ],\n        \"semantic_type\": \"\",\n        \"description\": \"\"\n      }\n    },\n    {\n      \"column\": \"gender\",\n      \"properties\": {\n        \"dtype\": \"string\",\n        \"num_unique_values\": 2,\n        \"samples\": [\n          \"f\",\n          \"m\"\n        ],\n        \"semantic_type\": \"\",\n        \"description\": \"\"\n      }\n    },\n    {\n      \"column\": \"grade\",\n      \"properties\": {\n        \"dtype\": \"string\",\n        \"num_unique_values\": 3,\n        \"samples\": [\n          \"good\",\n          \"execellent\"\n        ],\n        \"semantic_type\": \"\",\n        \"description\": \"\"\n      }\n    },\n    {\n      \"column\": \"temp_c\",\n      \"properties\": {\n        \"dtype\": \"string\",\n        \"num_unique_values\": 4,\n        \"samples\": [\n          \"24\",\n          \"35\"\n        ],\n        \"semantic_type\": \"\",\n        \"description\": \"\"\n      }\n    },\n    {\n      \"column\": \"percentage\",\n      \"properties\": {\n        \"dtype\": \"string\",\n        \"num_unique_values\": 3,\n        \"samples\": [\n          \"55\",\n          \"60\"\n        ],\n        \"semantic_type\": \"\",\n        \"description\": \"\"\n      }\n    }\n  ]\n}"
            }
          },
          "metadata": {},
          "execution_count": 30
        }
      ]
    },
    {
      "cell_type": "code",
      "source": [
        "types1 = {\n",
        "    \"Student\":[ \"Nominal (label)\"],\n",
        "    \"Gender\": [\"Nominal\"],\n",
        "    \"Grade_Level\": [\"Ordinal\"],\n",
        "    \"Temperature_C\": [\"Interval\"],\n",
        "    \"Test_Score_Percent\": [\"Ratio\"]}\n",
        "\n",
        "df2= pd.DataFrame(types1)\n",
        "df2"
      ],
      "metadata": {
        "colab": {
          "base_uri": "https://localhost:8080/",
          "height": 89
        },
        "id": "vavCtWMufW4C",
        "outputId": "c6f9382d-5d7d-43bb-8ee0-610f270994c5"
      },
      "execution_count": null,
      "outputs": [
        {
          "output_type": "execute_result",
          "data": {
            "text/plain": [
              "           Student   Gender Grade_Level Temperature_C Test_Score_Percent\n",
              "0  Nominal (label)  Nominal     Ordinal      Interval              Ratio"
            ],
            "text/html": [
              "\n",
              "  <div id=\"df-c699bdc3-9bd6-4466-b605-0b026971fdf9\" class=\"colab-df-container\">\n",
              "    <div>\n",
              "<style scoped>\n",
              "    .dataframe tbody tr th:only-of-type {\n",
              "        vertical-align: middle;\n",
              "    }\n",
              "\n",
              "    .dataframe tbody tr th {\n",
              "        vertical-align: top;\n",
              "    }\n",
              "\n",
              "    .dataframe thead th {\n",
              "        text-align: right;\n",
              "    }\n",
              "</style>\n",
              "<table border=\"1\" class=\"dataframe\">\n",
              "  <thead>\n",
              "    <tr style=\"text-align: right;\">\n",
              "      <th></th>\n",
              "      <th>Student</th>\n",
              "      <th>Gender</th>\n",
              "      <th>Grade_Level</th>\n",
              "      <th>Temperature_C</th>\n",
              "      <th>Test_Score_Percent</th>\n",
              "    </tr>\n",
              "  </thead>\n",
              "  <tbody>\n",
              "    <tr>\n",
              "      <th>0</th>\n",
              "      <td>Nominal (label)</td>\n",
              "      <td>Nominal</td>\n",
              "      <td>Ordinal</td>\n",
              "      <td>Interval</td>\n",
              "      <td>Ratio</td>\n",
              "    </tr>\n",
              "  </tbody>\n",
              "</table>\n",
              "</div>\n",
              "    <div class=\"colab-df-buttons\">\n",
              "\n",
              "  <div class=\"colab-df-container\">\n",
              "    <button class=\"colab-df-convert\" onclick=\"convertToInteractive('df-c699bdc3-9bd6-4466-b605-0b026971fdf9')\"\n",
              "            title=\"Convert this dataframe to an interactive table.\"\n",
              "            style=\"display:none;\">\n",
              "\n",
              "  <svg xmlns=\"http://www.w3.org/2000/svg\" height=\"24px\" viewBox=\"0 -960 960 960\">\n",
              "    <path d=\"M120-120v-720h720v720H120Zm60-500h600v-160H180v160Zm220 220h160v-160H400v160Zm0 220h160v-160H400v160ZM180-400h160v-160H180v160Zm440 0h160v-160H620v160ZM180-180h160v-160H180v160Zm440 0h160v-160H620v160Z\"/>\n",
              "  </svg>\n",
              "    </button>\n",
              "\n",
              "  <style>\n",
              "    .colab-df-container {\n",
              "      display:flex;\n",
              "      gap: 12px;\n",
              "    }\n",
              "\n",
              "    .colab-df-convert {\n",
              "      background-color: #E8F0FE;\n",
              "      border: none;\n",
              "      border-radius: 50%;\n",
              "      cursor: pointer;\n",
              "      display: none;\n",
              "      fill: #1967D2;\n",
              "      height: 32px;\n",
              "      padding: 0 0 0 0;\n",
              "      width: 32px;\n",
              "    }\n",
              "\n",
              "    .colab-df-convert:hover {\n",
              "      background-color: #E2EBFA;\n",
              "      box-shadow: 0px 1px 2px rgba(60, 64, 67, 0.3), 0px 1px 3px 1px rgba(60, 64, 67, 0.15);\n",
              "      fill: #174EA6;\n",
              "    }\n",
              "\n",
              "    .colab-df-buttons div {\n",
              "      margin-bottom: 4px;\n",
              "    }\n",
              "\n",
              "    [theme=dark] .colab-df-convert {\n",
              "      background-color: #3B4455;\n",
              "      fill: #D2E3FC;\n",
              "    }\n",
              "\n",
              "    [theme=dark] .colab-df-convert:hover {\n",
              "      background-color: #434B5C;\n",
              "      box-shadow: 0px 1px 3px 1px rgba(0, 0, 0, 0.15);\n",
              "      filter: drop-shadow(0px 1px 2px rgba(0, 0, 0, 0.3));\n",
              "      fill: #FFFFFF;\n",
              "    }\n",
              "  </style>\n",
              "\n",
              "    <script>\n",
              "      const buttonEl =\n",
              "        document.querySelector('#df-c699bdc3-9bd6-4466-b605-0b026971fdf9 button.colab-df-convert');\n",
              "      buttonEl.style.display =\n",
              "        google.colab.kernel.accessAllowed ? 'block' : 'none';\n",
              "\n",
              "      async function convertToInteractive(key) {\n",
              "        const element = document.querySelector('#df-c699bdc3-9bd6-4466-b605-0b026971fdf9');\n",
              "        const dataTable =\n",
              "          await google.colab.kernel.invokeFunction('convertToInteractive',\n",
              "                                                    [key], {});\n",
              "        if (!dataTable) return;\n",
              "\n",
              "        const docLinkHtml = 'Like what you see? Visit the ' +\n",
              "          '<a target=\"_blank\" href=https://colab.research.google.com/notebooks/data_table.ipynb>data table notebook</a>'\n",
              "          + ' to learn more about interactive tables.';\n",
              "        element.innerHTML = '';\n",
              "        dataTable['output_type'] = 'display_data';\n",
              "        await google.colab.output.renderOutput(dataTable, element);\n",
              "        const docLink = document.createElement('div');\n",
              "        docLink.innerHTML = docLinkHtml;\n",
              "        element.appendChild(docLink);\n",
              "      }\n",
              "    </script>\n",
              "  </div>\n",
              "\n",
              "\n",
              "  <div id=\"id_f530df80-d742-4581-a539-e7f992baae3b\">\n",
              "    <style>\n",
              "      .colab-df-generate {\n",
              "        background-color: #E8F0FE;\n",
              "        border: none;\n",
              "        border-radius: 50%;\n",
              "        cursor: pointer;\n",
              "        display: none;\n",
              "        fill: #1967D2;\n",
              "        height: 32px;\n",
              "        padding: 0 0 0 0;\n",
              "        width: 32px;\n",
              "      }\n",
              "\n",
              "      .colab-df-generate:hover {\n",
              "        background-color: #E2EBFA;\n",
              "        box-shadow: 0px 1px 2px rgba(60, 64, 67, 0.3), 0px 1px 3px 1px rgba(60, 64, 67, 0.15);\n",
              "        fill: #174EA6;\n",
              "      }\n",
              "\n",
              "      [theme=dark] .colab-df-generate {\n",
              "        background-color: #3B4455;\n",
              "        fill: #D2E3FC;\n",
              "      }\n",
              "\n",
              "      [theme=dark] .colab-df-generate:hover {\n",
              "        background-color: #434B5C;\n",
              "        box-shadow: 0px 1px 3px 1px rgba(0, 0, 0, 0.15);\n",
              "        filter: drop-shadow(0px 1px 2px rgba(0, 0, 0, 0.3));\n",
              "        fill: #FFFFFF;\n",
              "      }\n",
              "    </style>\n",
              "    <button class=\"colab-df-generate\" onclick=\"generateWithVariable('df2')\"\n",
              "            title=\"Generate code using this dataframe.\"\n",
              "            style=\"display:none;\">\n",
              "\n",
              "  <svg xmlns=\"http://www.w3.org/2000/svg\" height=\"24px\"viewBox=\"0 0 24 24\"\n",
              "       width=\"24px\">\n",
              "    <path d=\"M7,19H8.4L18.45,9,17,7.55,7,17.6ZM5,21V16.75L18.45,3.32a2,2,0,0,1,2.83,0l1.4,1.43a1.91,1.91,0,0,1,.58,1.4,1.91,1.91,0,0,1-.58,1.4L9.25,21ZM18.45,9,17,7.55Zm-12,3A5.31,5.31,0,0,0,4.9,8.1,5.31,5.31,0,0,0,1,6.5,5.31,5.31,0,0,0,4.9,4.9,5.31,5.31,0,0,0,6.5,1,5.31,5.31,0,0,0,8.1,4.9,5.31,5.31,0,0,0,12,6.5,5.46,5.46,0,0,0,6.5,12Z\"/>\n",
              "  </svg>\n",
              "    </button>\n",
              "    <script>\n",
              "      (() => {\n",
              "      const buttonEl =\n",
              "        document.querySelector('#id_f530df80-d742-4581-a539-e7f992baae3b button.colab-df-generate');\n",
              "      buttonEl.style.display =\n",
              "        google.colab.kernel.accessAllowed ? 'block' : 'none';\n",
              "\n",
              "      buttonEl.onclick = () => {\n",
              "        google.colab.notebook.generateWithVariable('df2');\n",
              "      }\n",
              "      })();\n",
              "    </script>\n",
              "  </div>\n",
              "\n",
              "    </div>\n",
              "  </div>\n"
            ],
            "application/vnd.google.colaboratory.intrinsic+json": {
              "type": "dataframe",
              "variable_name": "df2",
              "summary": "{\n  \"name\": \"df2\",\n  \"rows\": 1,\n  \"fields\": [\n    {\n      \"column\": \"Student\",\n      \"properties\": {\n        \"dtype\": \"string\",\n        \"num_unique_values\": 1,\n        \"samples\": [\n          \"Nominal (label)\"\n        ],\n        \"semantic_type\": \"\",\n        \"description\": \"\"\n      }\n    },\n    {\n      \"column\": \"Gender\",\n      \"properties\": {\n        \"dtype\": \"string\",\n        \"num_unique_values\": 1,\n        \"samples\": [\n          \"Nominal\"\n        ],\n        \"semantic_type\": \"\",\n        \"description\": \"\"\n      }\n    },\n    {\n      \"column\": \"Grade_Level\",\n      \"properties\": {\n        \"dtype\": \"string\",\n        \"num_unique_values\": 1,\n        \"samples\": [\n          \"Ordinal\"\n        ],\n        \"semantic_type\": \"\",\n        \"description\": \"\"\n      }\n    },\n    {\n      \"column\": \"Temperature_C\",\n      \"properties\": {\n        \"dtype\": \"string\",\n        \"num_unique_values\": 1,\n        \"samples\": [\n          \"Interval\"\n        ],\n        \"semantic_type\": \"\",\n        \"description\": \"\"\n      }\n    },\n    {\n      \"column\": \"Test_Score_Percent\",\n      \"properties\": {\n        \"dtype\": \"string\",\n        \"num_unique_values\": 1,\n        \"samples\": [\n          \"Ratio\"\n        ],\n        \"semantic_type\": \"\",\n        \"description\": \"\"\n      }\n    }\n  ]\n}"
            }
          },
          "metadata": {},
          "execution_count": 49
        }
      ]
    },
    {
      "cell_type": "markdown",
      "source": [
        "#4. Implement sampling techniques like random sampling and stratified sampling?"
      ],
      "metadata": {
        "id": "gWKwEuLhkXYR"
      }
    },
    {
      "cell_type": "code",
      "source": [
        "import pandas as pd\n",
        "from sklearn.model_selection import train_test_split\n",
        "\n",
        "# Sample dataset\n",
        "data = {\n",
        "    \"ID\": range(1, 21),\n",
        "    \"Gender\": [\"Male\", \"Female\"] * 10,\n",
        "    \"Score\": [45, 55, 60, 62, 58, 70, 65, 72, 68, 90, 88, 47, 52, 61, 66, 75, 63, 59, 80, 85]\n",
        "}\n",
        "\n",
        "df = pd.DataFrame(data)\n",
        "\n",
        "# ---- 1. Simple Random Sampling ----\n",
        "random_sample = df.sample(n=5, random_state=42)  # randomly pick 5 rows\n",
        "print(\"🎲 Random Sample:\\n\", random_sample)\n",
        "\n",
        "# ---- 2. Stratified Sampling (based on 'Gender') ----\n",
        "# stratify based on 'Gender' to preserve class distribution\n",
        "strat_sample, _ = train_test_split(df, test_size=0.75, stratify=df[\"Gender\"], random_state=42)\n",
        "print(\"\\n🔬 Stratified Sample (by Gender):\\n\", strat_sample)\n"
      ],
      "metadata": {
        "colab": {
          "base_uri": "https://localhost:8080/"
        },
        "id": "k5GLFdiFjqJe",
        "outputId": "a6c71e07-9073-4bfd-e995-4bbf9b3c4ec4"
      },
      "execution_count": null,
      "outputs": [
        {
          "output_type": "stream",
          "name": "stdout",
          "text": [
            "🎲 Random Sample:\n",
            "     ID  Gender  Score\n",
            "0    1    Male     45\n",
            "17  18  Female     59\n",
            "15  16  Female     75\n",
            "1    2  Female     55\n",
            "8    9    Male     68\n",
            "\n",
            "🔬 Stratified Sample (by Gender):\n",
            "     ID  Gender  Score\n",
            "18  19    Male     80\n",
            "0    1    Male     45\n",
            "11  12  Female     47\n",
            "12  13    Male     52\n",
            "1    2  Female     55\n"
          ]
        }
      ]
    },
    {
      "cell_type": "markdown",
      "source": [
        "#5. Write a Python function to calculate the range of a dataset?"
      ],
      "metadata": {
        "id": "Y-19prnM1BlO"
      }
    },
    {
      "cell_type": "code",
      "source": [
        "def calculate_range(data):\n",
        "    return max(data) - min(data)\n",
        "\n",
        "data = [12, 45, 67, 23, 89, 34, 56]\n",
        "print(\"Range of dataset:\", calculate_range(data))\n"
      ],
      "metadata": {
        "colab": {
          "base_uri": "https://localhost:8080/"
        },
        "id": "Jo_pJDUK1fGo",
        "outputId": "f4cff21f-0d62-4b16-9e59-79067e5f3c48"
      },
      "execution_count": 1,
      "outputs": [
        {
          "output_type": "stream",
          "name": "stdout",
          "text": [
            "Range of dataset: 77\n"
          ]
        }
      ]
    },
    {
      "cell_type": "markdown",
      "source": [
        "#6. Create a dataset and plot its histogram to visualize skewness?"
      ],
      "metadata": {
        "id": "RVtSgBYs1BSO"
      }
    },
    {
      "cell_type": "code",
      "source": [
        "import matplotlib.pyplot as plt\n",
        "import numpy as np\n",
        "\n",
        "# Create a skewed dataset\n",
        "data = np.random.exponential(scale=2.0, size=1000)\n",
        "\n",
        "# Plot histogram\n",
        "plt.hist(data, bins=30, color='skyblue', edgecolor='black')\n",
        "plt.title(\"Histogram to Visualize Skewness\")\n",
        "plt.xlabel(\"Value\")\n",
        "plt.ylabel(\"Frequency\")\n",
        "plt.show()\n"
      ],
      "metadata": {
        "id": "l4WFb3IxlD15",
        "colab": {
          "base_uri": "https://localhost:8080/",
          "height": 472
        },
        "outputId": "ff64e506-5054-4b6e-ce67-24eb978574f1"
      },
      "execution_count": 2,
      "outputs": [
        {
          "output_type": "display_data",
          "data": {
            "text/plain": [
              "<Figure size 640x480 with 1 Axes>"
            ],
            "image/png": "[encoded data removed]"
          },
          "metadata": {}
        }
      ]
    },
    {
      "cell_type": "markdown",
      "source": [
        "#7. Calculate skewness and kurtosis of a dataset using Python libraries?"
      ],
      "metadata": {
        "id": "l1uVxsx112k-"
      }
    },
    {
      "cell_type": "code",
      "source": [
        "from scipy.stats import skew, kurtosis\n",
        "\n",
        "print(\"Skewness:\", skew(data))\n",
        "print(\"Kurtosis:\", kurtosis(data))\n"
      ],
      "metadata": {
        "colab": {
          "base_uri": "https://localhost:8080/"
        },
        "id": "ZsaT_3Ax19sJ",
        "outputId": "f3ea4109-e3b0-4dca-9c97-6033592fe371"
      },
      "execution_count": 3,
      "outputs": [
        {
          "output_type": "stream",
          "name": "stdout",
          "text": [
            "Skewness: 2.3970400117866366\n",
            "Kurtosis: 8.80011949042207\n"
          ]
        }
      ]
    },
    {
      "cell_type": "markdown",
      "source": [
        "#8. Generate a dataset and demonstrate positive and negative skewness"
      ],
      "metadata": {
        "id": "QoxGW8kd15zK"
      }
    },
    {
      "cell_type": "code",
      "source": [
        "# Positive skew\n",
        "positive_skew = np.random.exponential(scale=2.0, size=1000)\n",
        "# Negative skew\n",
        "negative_skew = -np.random.exponential(scale=2.0, size=1000)\n",
        "\n",
        "# Plot both\n",
        "plt.hist(positive_skew, bins=30, alpha=0.6, label=\"Positive Skew\")\n",
        "plt.hist(negative_skew, bins=30, alpha=0.6, label=\"Negative Skew\")\n",
        "plt.legend()\n",
        "plt.title(\"Positive and Negative Skewness\")\n",
        "plt.show()\n"
      ],
      "metadata": {
        "colab": {
          "base_uri": "https://localhost:8080/",
          "height": 452
        },
        "id": "rOOD8x_814Ja",
        "outputId": "2f07b698-f618-4470-ce01-c09ed9ba0230"
      },
      "execution_count": 4,
      "outputs": [
        {
          "output_type": "display_data",
          "data": {
            "text/plain": [
              "<Figure size 640x480 with 1 Axes>"
            ],
            "image/png": "[encoded data removed]"
          },
          "metadata": {}
        }
      ]
    },
    {
      "cell_type": "markdown",
      "source": [
        "#9. Write a Python script to calculate covariance between two datasets?"
      ],
      "metadata": {
        "id": "7yrDfrb62HCK"
      }
    },
    {
      "cell_type": "code",
      "source": [
        "x = np.random.normal(loc=10, scale=5, size=100)\n",
        "y = x + np.random.normal(loc=0, scale=3, size=100)\n",
        "\n",
        "cov_matrix = np.cov(x, y)\n",
        "print(\"Covariance matrix:\\n\", cov_matrix)\n",
        "print(\"Covariance:\", cov_matrix[0, 1])\n"
      ],
      "metadata": {
        "colab": {
          "base_uri": "https://localhost:8080/"
        },
        "id": "DvGBVq1m2FV-",
        "outputId": "7a067219-5b78-4324-f3aa-d37d31dff12f"
      },
      "execution_count": 5,
      "outputs": [
        {
          "output_type": "stream",
          "name": "stdout",
          "text": [
            "Covariance matrix:\n",
            " [[23.97671579 24.57555342]\n",
            " [24.57555342 36.31091339]]\n",
            "Covariance: 24.57555342415955\n"
          ]
        }
      ]
    },
    {
      "cell_type": "markdown",
      "source": [
        "#10. Write a Python script to calculate the correlation coefficient between two datasets"
      ],
      "metadata": {
        "id": "CjVYHML92Ow0"
      }
    },
    {
      "cell_type": "code",
      "source": [
        "correlation = np.corrcoef(x, y)\n",
        "print(\"Correlation coefficient matrix:\\n\", correlation)\n",
        "print(\"Correlation coefficient:\", correlation[0, 1])\n"
      ],
      "metadata": {
        "colab": {
          "base_uri": "https://localhost:8080/"
        },
        "id": "wdHhxEAr2M22",
        "outputId": "086e0f03-643f-4f12-98e4-580fe3baf79d"
      },
      "execution_count": 6,
      "outputs": [
        {
          "output_type": "stream",
          "name": "stdout",
          "text": [
            "Correlation coefficient matrix:\n",
            " [[1.         0.83289427]\n",
            " [0.83289427 1.        ]]\n",
            "Correlation coefficient: 0.832894265774998\n"
          ]
        }
      ]
    },
    {
      "cell_type": "markdown",
      "source": [
        "#11. Create a scatter plot to visualize the relationship between two variables"
      ],
      "metadata": {
        "id": "ibOlcJK_2YbF"
      }
    },
    {
      "cell_type": "code",
      "source": [
        "plt.scatter(x, y, alpha=0.7, color='green')\n",
        "plt.title(\"Scatter Plot of X vs Y\")\n",
        "plt.xlabel(\"X values\")\n",
        "plt.ylabel(\"Y values\")\n",
        "plt.show()\n"
      ],
      "metadata": {
        "colab": {
          "base_uri": "https://localhost:8080/",
          "height": 472
        },
        "id": "gYak3tc-2WXY",
        "outputId": "5b119bd9-65c1-4466-87b9-ac0312f326b3"
      },
      "execution_count": 7,
      "outputs": [
        {
          "output_type": "display_data",
          "data": {
            "text/plain": [
              "<Figure size 640x480 with 1 Axes>"
            ],
            "image/png": "[encoded data removed]"
          },
          "metadata": {}
        }
      ]
    },
    {
      "cell_type": "markdown",
      "source": [
        "#12. Implement and compare simple random sampling and systematic sampling"
      ],
      "metadata": {
        "id": "KY0AG-702ku2"
      }
    },
    {
      "cell_type": "code",
      "source": [
        "import pandas as pd\n",
        "\n",
        "population = pd.Series(range(1, 101))\n",
        "\n",
        "# Simple Random Sampling\n",
        "simple_random_sample = population.sample(n=10, random_state=1)\n",
        "print(\"Simple Random Sample:\\n\", simple_random_sample.tolist())\n",
        "\n",
        "# Systematic Sampling\n",
        "k = len(population) // 10\n",
        "start = np.random.randint(0, k)\n",
        "systematic_sample = population[start::k][:10]\n",
        "print(\"Systematic Sample:\\n\", systematic_sample.tolist())\n"
      ],
      "metadata": {
        "colab": {
          "base_uri": "https://localhost:8080/"
        },
        "id": "UT-JVoMj2d4n",
        "outputId": "3ffcf143-dadd-4597-861f-f99d21d59526"
      },
      "execution_count": 8,
      "outputs": [
        {
          "output_type": "stream",
          "name": "stdout",
          "text": [
            "Simple Random Sample:\n",
            " [81, 85, 34, 82, 94, 18, 37, 83, 70, 66]\n",
            "Systematic Sample:\n",
            " [1, 11, 21, 31, 41, 51, 61, 71, 81, 91]\n"
          ]
        }
      ]
    },
    {
      "cell_type": "markdown",
      "source": [
        "#13.  Calculate the mean, median, and mode of grouped data?"
      ],
      "metadata": {
        "id": "7F-kfmCz26HN"
      }
    },
    {
      "cell_type": "code",
      "source": [
        "import statistics as stats\n",
        "from scipy import stats as scipy_stats\n",
        "\n",
        "grouped_data = [10, 10, 20, 20, 20, 30, 40, 40, 50]\n",
        "\n",
        "mean_val = np.mean(grouped_data)\n",
        "median_val = np.median(grouped_data)\n",
        "mode_val = scipy_stats.mode(grouped_data).mode[0]\n",
        "\n",
        "print(f\"Mean: {mean_val}, Median: {median_val}, Mode: {mode_val}\")\n"
      ],
      "metadata": {
        "colab": {
          "base_uri": "https://localhost:8080/",
          "height": 222
        },
        "id": "7QgaXH1O2sBK",
        "outputId": "7f46f854-d15a-450c-af7c-fdc5e0a0f35a"
      },
      "execution_count": 10,
      "outputs": [
        {
          "output_type": "error",
          "ename": "IndexError",
          "evalue": "invalid index to scalar variable.",
          "traceback": [
            "\u001b[0;31m---------------------------------------------------------------------------\u001b[0m",
            "\u001b[0;31mIndexError\u001b[0m                                Traceback (most recent call last)",
            "\u001b[0;32m/tmp/ipython-input-10-4091041592.py\u001b[0m in \u001b[0;36m<cell line: 0>\u001b[0;34m()\u001b[0m\n\u001b[1;32m      6\u001b[0m \u001b[0mmean_val\u001b[0m \u001b[0;34m=\u001b[0m \u001b[0mnp\u001b[0m\u001b[0;34m.\u001b[0m\u001b[0mmean\u001b[0m\u001b[0;34m(\u001b[0m\u001b[0mgrouped_data\u001b[0m\u001b[0;34m)\u001b[0m\u001b[0;34m\u001b[0m\u001b[0;34m\u001b[0m\u001b[0m\n\u001b[1;32m      7\u001b[0m \u001b[0mmedian_val\u001b[0m \u001b[0;34m=\u001b[0m \u001b[0mnp\u001b[0m\u001b[0;34m.\u001b[0m\u001b[0mmedian\u001b[0m\u001b[0;34m(\u001b[0m\u001b[0mgrouped_data\u001b[0m\u001b[0;34m)\u001b[0m\u001b[0;34m\u001b[0m\u001b[0;34m\u001b[0m\u001b[0m\n\u001b[0;32m----> 8\u001b[0;31m \u001b[0mmode_val\u001b[0m \u001b[0;34m=\u001b[0m \u001b[0mscipy_stats\u001b[0m\u001b[0;34m.\u001b[0m\u001b[0mmode\u001b[0m\u001b[0;34m(\u001b[0m\u001b[0mgrouped_data\u001b[0m\u001b[0;34m)\u001b[0m\u001b[0;34m.\u001b[0m\u001b[0mmode\u001b[0m\u001b[0;34m[\u001b[0m\u001b[0;36m0\u001b[0m\u001b[0;34m]\u001b[0m\u001b[0;34m\u001b[0m\u001b[0;34m\u001b[0m\u001b[0m\n\u001b[0m\u001b[1;32m      9\u001b[0m \u001b[0;34m\u001b[0m\u001b[0m\n\u001b[1;32m     10\u001b[0m \u001b[0mprint\u001b[0m\u001b[0;34m(\u001b[0m\u001b[0;34mf\"Mean: {mean_val}, Median: {median_val}, Mode: {mode_val}\"\u001b[0m\u001b[0;34m)\u001b[0m\u001b[0;34m\u001b[0m\u001b[0;34m\u001b[0m\u001b[0m\n",
            "\u001b[0;31mIndexError\u001b[0m: invalid index to scalar variable."
          ]
        }
      ]
    },
    {
      "cell_type": "markdown",
      "source": [
        "#14. Simulate data using Python and calculate its central tendency and dispersion"
      ],
      "metadata": {
        "id": "UhRHnH9s3IGJ"
      }
    },
    {
      "cell_type": "code",
      "source": [
        "simulated_data = np.random.normal(loc=50, scale=15, size=1000)\n",
        "\n",
        "mean = np.mean(simulated_data)\n",
        "median = np.median(simulated_data)\n",
        "mode = scipy_stats.mode(simulated_data).mode[0]\n",
        "std_dev = np.std(simulated_data)\n",
        "variance = np.var(simulated_data)\n",
        "\n",
        "print(f\"Mean: {mean:.2f}\")\n",
        "print(f\"Median: {median:.2f}\")\n",
        "print(f\"Mode: {mode:.2f}\")\n",
        "print(f\"Standard Deviation: {std_dev:.2f}\")\n",
        "print(f\"Variance: {variance:.2f}\")\n"
      ],
      "metadata": {
        "colab": {
          "base_uri": "https://localhost:8080/",
          "height": 222
        },
        "id": "MALKgUy22-c6",
        "outputId": "2bef2a40-c4f3-435e-95cd-8153e2e1f014"
      },
      "execution_count": 11,
      "outputs": [
        {
          "output_type": "error",
          "ename": "IndexError",
          "evalue": "invalid index to scalar variable.",
          "traceback": [
            "\u001b[0;31m---------------------------------------------------------------------------\u001b[0m",
            "\u001b[0;31mIndexError\u001b[0m                                Traceback (most recent call last)",
            "\u001b[0;32m/tmp/ipython-input-11-355032584.py\u001b[0m in \u001b[0;36m<cell line: 0>\u001b[0;34m()\u001b[0m\n\u001b[1;32m      3\u001b[0m \u001b[0mmean\u001b[0m \u001b[0;34m=\u001b[0m \u001b[0mnp\u001b[0m\u001b[0;34m.\u001b[0m\u001b[0mmean\u001b[0m\u001b[0;34m(\u001b[0m\u001b[0msimulated_data\u001b[0m\u001b[0;34m)\u001b[0m\u001b[0;34m\u001b[0m\u001b[0;34m\u001b[0m\u001b[0m\n\u001b[1;32m      4\u001b[0m \u001b[0mmedian\u001b[0m \u001b[0;34m=\u001b[0m \u001b[0mnp\u001b[0m\u001b[0;34m.\u001b[0m\u001b[0mmedian\u001b[0m\u001b[0;34m(\u001b[0m\u001b[0msimulated_data\u001b[0m\u001b[0;34m)\u001b[0m\u001b[0;34m\u001b[0m\u001b[0;34m\u001b[0m\u001b[0m\n\u001b[0;32m----> 5\u001b[0;31m \u001b[0mmode\u001b[0m \u001b[0;34m=\u001b[0m \u001b[0mscipy_stats\u001b[0m\u001b[0;34m.\u001b[0m\u001b[0mmode\u001b[0m\u001b[0;34m(\u001b[0m\u001b[0msimulated_data\u001b[0m\u001b[0;34m)\u001b[0m\u001b[0;34m.\u001b[0m\u001b[0mmode\u001b[0m\u001b[0;34m[\u001b[0m\u001b[0;36m0\u001b[0m\u001b[0;34m]\u001b[0m\u001b[0;34m\u001b[0m\u001b[0;34m\u001b[0m\u001b[0m\n\u001b[0m\u001b[1;32m      6\u001b[0m \u001b[0mstd_dev\u001b[0m \u001b[0;34m=\u001b[0m \u001b[0mnp\u001b[0m\u001b[0;34m.\u001b[0m\u001b[0mstd\u001b[0m\u001b[0;34m(\u001b[0m\u001b[0msimulated_data\u001b[0m\u001b[0;34m)\u001b[0m\u001b[0;34m\u001b[0m\u001b[0;34m\u001b[0m\u001b[0m\n\u001b[1;32m      7\u001b[0m \u001b[0mvariance\u001b[0m \u001b[0;34m=\u001b[0m \u001b[0mnp\u001b[0m\u001b[0;34m.\u001b[0m\u001b[0mvar\u001b[0m\u001b[0;34m(\u001b[0m\u001b[0msimulated_data\u001b[0m\u001b[0;34m)\u001b[0m\u001b[0;34m\u001b[0m\u001b[0;34m\u001b[0m\u001b[0m\n",
            "\u001b[0;31mIndexError\u001b[0m: invalid index to scalar variable."
          ]
        }
      ]
    },
    {
      "cell_type": "markdown",
      "source": [
        "#15. Use NumPy or pandas to summarize a dataset’s descriptive statistics"
      ],
      "metadata": {
        "id": "b6qkKAn13h8s"
      }
    },
    {
      "cell_type": "code",
      "source": [
        "import pandas as pd\n",
        "import numpy as np\n",
        "\n",
        "data = np.random.normal(50, 10, 100)\n",
        "df = pd.DataFrame(data, columns=['Values'])\n",
        "print(df.describe())\n"
      ],
      "metadata": {
        "colab": {
          "base_uri": "https://localhost:8080/"
        },
        "id": "gJ6HXHgQ3lFR",
        "outputId": "8b926459-5167-478f-932c-54a446a8458b"
      },
      "execution_count": 12,
      "outputs": [
        {
          "output_type": "stream",
          "name": "stdout",
          "text": [
            "           Values\n",
            "count  100.000000\n",
            "mean    49.428669\n",
            "std     10.616529\n",
            "min      7.754208\n",
            "25%     42.456017\n",
            "50%     48.915599\n",
            "75%     56.650269\n",
            "max     70.306179\n"
          ]
        }
      ]
    },
    {
      "cell_type": "markdown",
      "source": [
        "#16. > Plot a boxplot to understand the spread and identify outliers>"
      ],
      "metadata": {
        "id": "mnaOMG583h5q"
      }
    },
    {
      "cell_type": "code",
      "source": [
        "import matplotlib.pyplot as plt\n",
        "\n",
        "plt.boxplot(df['Values'])\n",
        "plt.title(\"Boxplot of Values\")\n",
        "plt.ylabel(\"Value\")\n",
        "plt.show()\n"
      ],
      "metadata": {
        "colab": {
          "base_uri": "https://localhost:8080/",
          "height": 452
        },
        "id": "YBFr_VBf3rFb",
        "outputId": "febba892-c7af-4f72-bce7-5570df0255a7"
      },
      "execution_count": 13,
      "outputs": [
        {
          "output_type": "display_data",
          "data": {
            "text/plain": [
              "<Figure size 640x480 with 1 Axes>"
            ],
            "image/png": "[encoded data removed]"
          },
          "metadata": {}
        }
      ]
    },
    {
      "cell_type": "markdown",
      "source": [
        "#17. Calculate the interquartile range (IQR) of a dataset>"
      ],
      "metadata": {
        "id": "-FBZbEAW3h36"
      }
    },
    {
      "cell_type": "code",
      "source": [
        "Q1 = df['Values'].quantile(0.25)\n",
        "Q3 = df['Values'].quantile(0.75)\n",
        "IQR = Q3 - Q1\n",
        "print(f\"IQR: {IQR}\")\n"
      ],
      "metadata": {
        "colab": {
          "base_uri": "https://localhost:8080/"
        },
        "id": "EJ-TUxU731nI",
        "outputId": "7f0d3fa1-9514-489c-c460-3abf30b0237d"
      },
      "execution_count": 14,
      "outputs": [
        {
          "output_type": "stream",
          "name": "stdout",
          "text": [
            "IQR: 14.194252125075636\n"
          ]
        }
      ]
    },
    {
      "cell_type": "markdown",
      "source": [
        "#18.> Implement Z-score normalization and explain its significance?"
      ],
      "metadata": {
        "id": "3Kv4iW7j3h1b"
      }
    },
    {
      "cell_type": "code",
      "source": [
        "from scipy.stats import zscore\n",
        "\n",
        "df['Z_score'] = zscore(df['Values'])\n",
        "print(df.head())\n",
        "\n",
        "# Z-score normalization transforms the data so that it has a mean of 0 and a std dev of 1.\n",
        "# This is useful for algorithms that are sensitive to the scale of data (e.g., KNN, SVM).\n"
      ],
      "metadata": {
        "colab": {
          "base_uri": "https://localhost:8080/"
        },
        "id": "FbgO81uW37L4",
        "outputId": "8812dca8-00de-4d55-ae27-2ec2bd4b625c"
      },
      "execution_count": 15,
      "outputs": [
        {
          "output_type": "stream",
          "name": "stdout",
          "text": [
            "      Values   Z_score\n",
            "0  60.339964  1.032943\n",
            "1  37.661579 -1.113958\n",
            "2  51.761540  0.220847\n",
            "3  69.986028  1.946109\n",
            "4  37.408108 -1.137954\n"
          ]
        }
      ]
    },
    {
      "cell_type": "markdown",
      "source": [
        "#19. Compare two datasets using their standard deviations?"
      ],
      "metadata": {
        "id": "J6bzOUvo3hy1"
      }
    },
    {
      "cell_type": "code",
      "source": [
        "data1 = np.random.normal(50, 5, 100)\n",
        "data2 = np.random.normal(50, 15, 100)\n",
        "\n",
        "std1 = np.std(data1)\n",
        "std2 = np.std(data2)\n",
        "\n",
        "print(f\"Standard Deviation of Dataset 1: {std1}\")\n",
        "print(f\"Standard Deviation of Dataset 2: {std2}\")\n",
        "\n",
        "# The higher the standard deviation, the more spread out the data.\n"
      ],
      "metadata": {
        "colab": {
          "base_uri": "https://localhost:8080/"
        },
        "id": "2EgVsqj64Doy",
        "outputId": "c7e9358e-4b46-4cad-de53-0bb21d953f54"
      },
      "execution_count": 16,
      "outputs": [
        {
          "output_type": "stream",
          "name": "stdout",
          "text": [
            "Standard Deviation of Dataset 1: 4.589487026984\n",
            "Standard Deviation of Dataset 2: 13.149460577725044\n"
          ]
        }
      ]
    },
    {
      "cell_type": "markdown",
      "source": [
        "#20.Write a Python program to visualize covariance using a heatmap"
      ],
      "metadata": {
        "id": "nk75cshl3hwL"
      }
    },
    {
      "cell_type": "code",
      "source": [
        "import seaborn as sns\n",
        "\n",
        "df_cov = pd.DataFrame({'X': data1, 'Y': data2})\n",
        "cov_matrix = df_cov.cov()\n",
        "\n",
        "sns.heatmap(cov_matrix, annot=True, cmap='coolwarm')\n",
        "plt.title(\"Covariance Heatmap\")\n",
        "plt.show()\n"
      ],
      "metadata": {
        "colab": {
          "base_uri": "https://localhost:8080/",
          "height": 452
        },
        "id": "8v7HcsWJ4KrW",
        "outputId": "30a15122-a4c2-42bf-dbd4-7555d97a316f"
      },
      "execution_count": 17,
      "outputs": [
        {
          "output_type": "display_data",
          "data": {
            "text/plain": [
              "<Figure size 640x480 with 2 Axes>"
            ],
            "image/png": "[encoded data removed]"
          },
          "metadata": {}
        }
      ]
    },
    {
      "cell_type": "markdown",
      "source": [
        "#21.> Use seaborn to create a correlation matrix for a dataset>"
      ],
      "metadata": {
        "id": "oBMLX6-j3huF"
      }
    },
    {
      "cell_type": "code",
      "source": [
        "correlation_matrix = df_cov.corr()\n",
        "\n",
        "sns.heatmap(correlation_matrix, annot=True, cmap='Blues')\n",
        "plt.title(\"Correlation Matrix\")\n",
        "plt.show()\n"
      ],
      "metadata": {
        "colab": {
          "base_uri": "https://localhost:8080/",
          "height": 452
        },
        "id": "OvnhJI7p3LrY",
        "outputId": "93bbea6f-ed7c-43dd-f319-2f7b50b402b7"
      },
      "execution_count": 18,
      "outputs": [
        {
          "output_type": "display_data",
          "data": {
            "text/plain": [
              "<Figure size 640x480 with 2 Axes>"
            ],
            "image/png": "[encoded data removed]"
          },
          "metadata": {}
        }
      ]
    },
    {
      "cell_type": "markdown",
      "source": [
        "#22. 5> Generate a dataset and implement both variance and standard deviation computations>\n"
      ],
      "metadata": {
        "id": "YgPoKWpi4U2b"
      }
    },
    {
      "cell_type": "code",
      "source": [
        "data = np.random.normal(100, 20, 200)\n",
        "\n",
        "variance = np.var(data)\n",
        "std_deviation = np.std(data)\n",
        "\n",
        "print(f\"Variance: {variance:.2f}\")\n",
        "print(f\"Standard Deviation: {std_deviation:.2f}\")\n"
      ],
      "metadata": {
        "colab": {
          "base_uri": "https://localhost:8080/"
        },
        "id": "nSHiWa0S4TqZ",
        "outputId": "2f8b0de6-356b-4543-c3fb-6bd09394118b"
      },
      "execution_count": 19,
      "outputs": [
        {
          "output_type": "stream",
          "name": "stdout",
          "text": [
            "Variance: 343.82\n",
            "Standard Deviation: 18.54\n"
          ]
        }
      ]
    },
    {
      "cell_type": "markdown",
      "source": [
        "#23.Visualize skewness and kurtosis using Python libraries like matplotlib or seaborn?"
      ],
      "metadata": {
        "id": "TKD88bmd4biD"
      }
    },
    {
      "cell_type": "code",
      "source": [
        "from scipy.stats import skew, kurtosis\n",
        "\n",
        "data = np.random.exponential(scale=2.0, size=1000)\n",
        "sns.histplot(data, kde=True, color='purple')\n",
        "plt.title(\"Skewness and Kurtosis Visualization\")\n",
        "plt.show()\n",
        "\n",
        "print(f\"Skewness: {skew(data):.2f}\")\n",
        "print(f\"Kurtosis: {kurtosis(data):.2f}\")\n"
      ],
      "metadata": {
        "colab": {
          "base_uri": "https://localhost:8080/",
          "height": 489
        },
        "id": "rVpD-cFG4aP8",
        "outputId": "b8785da6-2c86-4a53-8bd8-f4f4d8bee8c7"
      },
      "execution_count": 20,
      "outputs": [
        {
          "output_type": "display_data",
          "data": {
            "text/plain": [
              "<Figure size 640x480 with 1 Axes>"
            ],
            "image/png": "[encoded data removed]"
          },
          "metadata": {}
        },
        {
          "output_type": "stream",
          "name": "stdout",
          "text": [
            "Skewness: 1.87\n",
            "Kurtosis: 4.64\n"
          ]
        }
      ]
    },
    {
      "cell_type": "markdown",
      "source": [
        "#24.  Implement the Pearson and Spearman correlation coefficients for a dataset."
      ],
      "metadata": {
        "id": "UrdEELbU4k9Z"
      }
    },
    {
      "cell_type": "code",
      "source": [
        "from scipy.stats import pearsonr, spearmanr\n",
        "\n",
        "x = np.random.rand(100)\n",
        "y = 2 * x + np.random.normal(0, 0.1, 100)\n",
        "\n",
        "pearson_corr, _ = pearsonr(x, y)\n",
        "spearman_corr, _ = spearmanr(x, y)\n",
        "\n",
        "print(f\"Pearson Correlation: {pearson_corr:.2f}\")\n",
        "print(f\"Spearman Correlation: {spearman_corr:.2f}\")\n"
      ],
      "metadata": {
        "colab": {
          "base_uri": "https://localhost:8080/"
        },
        "id": "QXkQ-5z44jsx",
        "outputId": "3fba3f69-0228-4693-8f44-b52adc8d400a"
      },
      "execution_count": 21,
      "outputs": [
        {
          "output_type": "stream",
          "name": "stdout",
          "text": [
            "Pearson Correlation: 0.99\n",
            "Spearman Correlation: 0.99\n"
          ]
        }
      ]
    },
    {
      "cell_type": "code",
      "source": [],
      "metadata": {
        "id": "I1B7mCh74saB"
      },
      "execution_count": null,
      "outputs": []
    }
  ]
}